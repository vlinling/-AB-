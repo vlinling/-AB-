{
 "cells": [
  {
   "cell_type": "code",
   "execution_count": 1,
   "metadata": {},
   "outputs": [],
   "source": [
    "import pandas as pd\n",
    "import numpy as np\n",
    "import matplotlib.pyplot as plt\n",
    "import seaborn as sns\n",
    "\n",
    "plt.rc('font', **{'family': 'Microsoft YaHei, SimHei'})  # 设置中文字体的支持\n",
    "\n",
    "# 提高输出效率库\n",
    "from IPython.core.interactiveshell import InteractiveShell # 实现 notebook 的多行输出\n",
    "InteractiveShell.ast_node_interactivity = 'all' #默认为'last'"
   ]
  },
  {
   "cell_type": "markdown",
   "metadata": {},
   "source": [
    "## 课程首页分析\n",
    "新改版的课程首页能使用户停留更久\n",
    "\n",
    "    控制组(control)--旧页面\n",
    "    实验组(experiment)--新页面\n",
    "    这里假设浏览时长越长，用户对该页面就越感兴趣，注册的概率就更高"
   ]
  },
  {
   "cell_type": "code",
   "execution_count": 2,
   "metadata": {},
   "outputs": [
    {
     "name": "stdout",
     "output_type": "stream",
     "text": [
      "<class 'pandas.core.frame.DataFrame'>\n",
      "RangeIndex: 4049 entries, 0 to 4048\n",
      "Data columns (total 5 columns):\n",
      "timestamp    4049 non-null object\n",
      "id           4049 non-null int64\n",
      "group        4049 non-null object\n",
      "action       4049 non-null object\n",
      "duration     4049 non-null float64\n",
      "dtypes: float64(1), int64(1), object(3)\n",
      "memory usage: 158.2+ KB\n"
     ]
    },
    {
     "data": {
      "text/html": [
       "<div>\n",
       "<style scoped>\n",
       "    .dataframe tbody tr th:only-of-type {\n",
       "        vertical-align: middle;\n",
       "    }\n",
       "\n",
       "    .dataframe tbody tr th {\n",
       "        vertical-align: top;\n",
       "    }\n",
       "\n",
       "    .dataframe thead th {\n",
       "        text-align: right;\n",
       "    }\n",
       "</style>\n",
       "<table border=\"1\" class=\"dataframe\">\n",
       "  <thead>\n",
       "    <tr style=\"text-align: right;\">\n",
       "      <th></th>\n",
       "      <th>timestamp</th>\n",
       "      <th>id</th>\n",
       "      <th>group</th>\n",
       "      <th>action</th>\n",
       "      <th>duration</th>\n",
       "    </tr>\n",
       "  </thead>\n",
       "  <tbody>\n",
       "    <tr>\n",
       "      <th>1778</th>\n",
       "      <td>2016-11-15 07:32:58.885848</td>\n",
       "      <td>390050</td>\n",
       "      <td>control</td>\n",
       "      <td>enroll</td>\n",
       "      <td>117.806697</td>\n",
       "    </tr>\n",
       "    <tr>\n",
       "      <th>1535</th>\n",
       "      <td>2016-11-08 15:02:27.426684</td>\n",
       "      <td>800090</td>\n",
       "      <td>control</td>\n",
       "      <td>enroll</td>\n",
       "      <td>71.216541</td>\n",
       "    </tr>\n",
       "    <tr>\n",
       "      <th>3229</th>\n",
       "      <td>2016-12-25 14:21:57.792119</td>\n",
       "      <td>195894</td>\n",
       "      <td>control</td>\n",
       "      <td>view</td>\n",
       "      <td>105.340948</td>\n",
       "    </tr>\n",
       "    <tr>\n",
       "      <th>3992</th>\n",
       "      <td>2017-01-17 05:08:39.348050</td>\n",
       "      <td>319641</td>\n",
       "      <td>control</td>\n",
       "      <td>view</td>\n",
       "      <td>26.782571</td>\n",
       "    </tr>\n",
       "    <tr>\n",
       "      <th>3152</th>\n",
       "      <td>2016-12-23 14:13:18.496351</td>\n",
       "      <td>768470</td>\n",
       "      <td>experiment</td>\n",
       "      <td>view</td>\n",
       "      <td>129.817843</td>\n",
       "    </tr>\n",
       "  </tbody>\n",
       "</table>\n",
       "</div>"
      ],
      "text/plain": [
       "                       timestamp      id       group  action    duration\n",
       "1778  2016-11-15 07:32:58.885848  390050     control  enroll  117.806697\n",
       "1535  2016-11-08 15:02:27.426684  800090     control  enroll   71.216541\n",
       "3229  2016-12-25 14:21:57.792119  195894     control    view  105.340948\n",
       "3992  2017-01-17 05:08:39.348050  319641     control    view   26.782571\n",
       "3152  2016-12-23 14:13:18.496351  768470  experiment    view  129.817843"
      ]
     },
     "execution_count": 2,
     "metadata": {},
     "output_type": "execute_result"
    }
   ],
   "source": [
    "course = pd.read_csv('course_page_actions.csv')\n",
    "course.info(); course.sample(5)"
   ]
  },
  {
   "cell_type": "markdown",
   "metadata": {},
   "source": [
    "### 注册率分析"
   ]
  },
  {
   "cell_type": "code",
   "execution_count": 3,
   "metadata": {},
   "outputs": [
    {
     "name": "stdout",
     "output_type": "stream",
     "text": [
      "控制组...\n",
      "{'注册数': 370, '浏览数': 1579, '注册率': '23.4326%'}\n",
      "---------------------------------------------\n",
      "实验组...\n",
      "{'注册数': 439, '浏览数': 1645, '注册率': '26.6869%'}\n"
     ]
    }
   ],
   "source": [
    "# 控制组注册率\n",
    "control_enroll_num = course[ (course['group']=='control') & \n",
    "                         (course['action']=='enroll') ]['id'].nunique() \n",
    "control_view_num = course[ (course['group']=='control') & \n",
    "                         (course['action']=='view') ]['id'].nunique()\n",
    "control_ctr = round((control_enroll_num*100 / control_view_num), 4)\n",
    "\n",
    "print(f'控制组...')\n",
    "control = {'注册数': control_enroll_num,\n",
    "          '浏览数': control_view_num, \n",
    "          '注册率': str(control_ctr) + '%'}\n",
    "print(control)\n",
    "\n",
    "print('-'*45)\n",
    "\n",
    "# 实验组注册率\n",
    "exp_enroll_num = course[ (course['group']=='experiment') & \n",
    "                         (course['action']=='enroll') ]['id'].nunique() \n",
    "exp_view_num = course[ (course['group']=='experiment') & \n",
    "                         (course['action']=='view') ]['id'].nunique()\n",
    "exp_ctr = round((exp_enroll_num*100 / exp_view_num), 4)\n",
    "\n",
    "print(f'实验组...')\n",
    "exp = {'注册数': exp_enroll_num,\n",
    "          '浏览数': exp_view_num, \n",
    "          '注册率': str(exp_ctr) + '%'}\n",
    "print(exp)"
   ]
  },
  {
   "cell_type": "markdown",
   "metadata": {},
   "source": [
    "### 浏览时长可视化"
   ]
  },
  {
   "cell_type": "code",
   "execution_count": 4,
   "metadata": {},
   "outputs": [
    {
     "data": {
      "text/plain": [
       "<matplotlib.axes._subplots.AxesSubplot at 0x143e7921eb8>"
      ]
     },
     "execution_count": 4,
     "metadata": {},
     "output_type": "execute_result"
    },
    {
     "data": {
      "text/plain": [
       "<matplotlib.legend.Legend at 0x143e7c763c8>"
      ]
     },
     "execution_count": 4,
     "metadata": {},
     "output_type": "execute_result"
    },
    {
     "data": {
      "text/plain": [
       "<matplotlib.axes._subplots.AxesSubplot at 0x143e79de128>"
      ]
     },
     "execution_count": 4,
     "metadata": {},
     "output_type": "execute_result"
    },
    {
     "data": {
      "text/plain": [
       "<matplotlib.legend.Legend at 0x143e7d0d0f0>"
      ]
     },
     "execution_count": 4,
     "metadata": {},
     "output_type": "execute_result"
    },
    {
     "data": {
      "text/plain": [
       "Text(0.5, 1.0, '实验组浏览时长分布')"
      ]
     },
     "execution_count": 4,
     "metadata": {},
     "output_type": "execute_result"
    },
    {
     "data": {
      "text/plain": [
       "Text(0.5, 1.0, '控制组浏览时长分布')"
      ]
     },
     "execution_count": 4,
     "metadata": {},
     "output_type": "execute_result"
    },
    {
     "data": {
      "image/png": "[encoded data removed]",
      "text/plain": [
       "<Figure size 1152x288 with 2 Axes>"
      ]
     },
     "metadata": {
      "needs_background": "light"
     },
     "output_type": "display_data"
    }
   ],
   "source": [
    "from scipy.stats import norm  # 用于拟合正态分布曲线\n",
    "\n",
    "# 设置布局\n",
    "fig = plt.figure(figsize=(16, 4))\n",
    "ax1 = fig.add_subplot(121)\n",
    "ax2 = fig.add_subplot(122)\n",
    "\n",
    "exp_duration = course.query('group == \"experiment\"')['duration']\n",
    "con_duration = course.query('group == \"control\"')['duration']\n",
    "\n",
    "sns.distplot(exp_duration, fit=norm, color='#F77B72', \n",
    "             kde_kws={\"color\":'#F77B72', \"lw\":3 }, ax=ax1)\n",
    "(mu, sigma) = norm.fit(exp_duration)  # 求同等条件下正态分布的 mu 和 sigma\n",
    "# 添加图例：使用格式化输入，loc='best' 表示自动将图例放到最合适的位置\n",
    "ax1.legend(['Normal dist. ($\\mu=$ {:.2f} and $\\sigma=$ {:.2f} )'. \\\n",
    "           format(mu, sigma)] ,loc='best')\n",
    "\n",
    "sns.distplot(con_duration, fit=norm, color='#4CB5AB', \n",
    "             kde_kws={\"color\": '#4CB5AB', \"lw\":3 }, ax=ax2)\n",
    "(mu, sigma) = norm.fit(con_duration)  # 求同等条件下正态分布的 mu 和 sigma\n",
    "# 添加图例：使用格式化输入，loc='best' 表示自动将图例放到最合适的位置\n",
    "ax2.legend(['Normal dist. ($\\mu=$ {:.2f} and $\\sigma=$ {:.2f} )'. \\\n",
    "           format(mu, sigma)] ,loc='best')\n",
    "\n",
    "# 给子图添加标题\n",
    "ax1.set_title('实验组浏览时长分布')\n",
    "ax2.set_title('控制组浏览时长分布')"
   ]
  },
  {
   "cell_type": "markdown",
   "metadata": {},
   "source": [
    "###### 结果分析\n",
    "新界面的注册率有所提高，而浏览时长方面均呈现轻微的右偏，\n",
    "\n",
    "实验组的浏览时长平均值比控制组高 15mins 左右，方差差别不大\n",
    "\n",
    "可初步判断新改版的课程首页更吸引用户，后续将会进行假设检验来进一步验证我们的猜想"
   ]
  },
  {
   "cell_type": "markdown",
   "metadata": {},
   "source": [
    "### 假设检验\n",
    "我们将从控制组和实验组中各抽取一定数量的样本来进行假设检验\n",
    "\n",
    "置信水平 α 的选择经验\n",
    "\n",
    "    样本量      α-level\n",
    "    ≤100        10%\n",
    "    100＜n≤500   5%\n",
    "    500＜n≤1000  1%\n",
    "    n＞2000     千分之一\n",
    "\n",
    "样本量过大，α-level 就没什么意义了。"
   ]
  },
  {
   "cell_type": "markdown",
   "metadata": {},
   "source": [
    "使用分层抽样，Python 没有现成的库或函数，可以使用前人的轮子"
   ]
  },
  {
   "cell_type": "code",
   "execution_count": 5,
   "metadata": {},
   "outputs": [],
   "source": [
    "from mysampling import get_sample"
   ]
  },
  {
   "cell_type": "code",
   "execution_count": 6,
   "metadata": {},
   "outputs": [
    {
     "data": {
      "text/html": [
       "<div>\n",
       "<style scoped>\n",
       "    .dataframe tbody tr th:only-of-type {\n",
       "        vertical-align: middle;\n",
       "    }\n",
       "\n",
       "    .dataframe tbody tr th {\n",
       "        vertical-align: top;\n",
       "    }\n",
       "\n",
       "    .dataframe thead th {\n",
       "        text-align: right;\n",
       "    }\n",
       "</style>\n",
       "<table border=\"1\" class=\"dataframe\">\n",
       "  <thead>\n",
       "    <tr style=\"text-align: right;\">\n",
       "      <th></th>\n",
       "      <th>timestamp</th>\n",
       "      <th>id</th>\n",
       "      <th>group</th>\n",
       "      <th>action</th>\n",
       "      <th>duration</th>\n",
       "    </tr>\n",
       "  </thead>\n",
       "  <tbody>\n",
       "    <tr>\n",
       "      <th>3632</th>\n",
       "      <td>2017-01-07 05:45:38.833638</td>\n",
       "      <td>191559</td>\n",
       "      <td>experiment</td>\n",
       "      <td>view</td>\n",
       "      <td>262.290814</td>\n",
       "    </tr>\n",
       "    <tr>\n",
       "      <th>1317</th>\n",
       "      <td>2016-11-01 18:02:26.835997</td>\n",
       "      <td>586186</td>\n",
       "      <td>experiment</td>\n",
       "      <td>view</td>\n",
       "      <td>141.046177</td>\n",
       "    </tr>\n",
       "    <tr>\n",
       "      <th>3254</th>\n",
       "      <td>2016-12-26 10:14:33.868461</td>\n",
       "      <td>838969</td>\n",
       "      <td>control</td>\n",
       "      <td>view</td>\n",
       "      <td>131.325875</td>\n",
       "    </tr>\n",
       "    <tr>\n",
       "      <th>2354</th>\n",
       "      <td>2016-12-02 08:48:40.388294</td>\n",
       "      <td>310818</td>\n",
       "      <td>control</td>\n",
       "      <td>enroll</td>\n",
       "      <td>129.078949</td>\n",
       "    </tr>\n",
       "  </tbody>\n",
       "</table>\n",
       "</div>"
      ],
      "text/plain": [
       "                       timestamp      id       group  action    duration\n",
       "3632  2017-01-07 05:45:38.833638  191559  experiment    view  262.290814\n",
       "1317  2016-11-01 18:02:26.835997  586186  experiment    view  141.046177\n",
       "3254  2016-12-26 10:14:33.868461  838969     control    view  131.325875\n",
       "2354  2016-12-02 08:48:40.388294  310818     control  enroll  129.078949"
      ]
     },
     "execution_count": 6,
     "metadata": {},
     "output_type": "execute_result"
    },
    {
     "name": "stdout",
     "output_type": "stream",
     "text": [
      "<class 'pandas.core.frame.DataFrame'>\n",
      "Int64Index: 600 entries, 1500 to 2533\n",
      "Data columns (total 5 columns):\n",
      "timestamp    600 non-null object\n",
      "id           600 non-null object\n",
      "group        600 non-null object\n",
      "action       600 non-null object\n",
      "duration     600 non-null float64\n",
      "dtypes: float64(1), object(4)\n",
      "memory usage: 28.1+ KB\n"
     ]
    }
   ],
   "source": [
    "# df: 输入的数据框 pandas.dataframe 对象\n",
    "\n",
    "# sampling:抽样方法 str\n",
    " ## 可选值有 [\"simple_random\", \"stratified\", \"systematic\"]\n",
    " ## 按顺序分别为: 简单随机抽样、分层抽样、系统抽样\n",
    "\n",
    "# stratified_col: 需要分层的列名的列表 list，只有在分层抽样时才生效\n",
    "\n",
    "# k: 抽样个数或抽样比例 int or float\n",
    "    ## (int, 则必须大于0; float, 则必须在区间(0,1)中)\n",
    "    ## 如果 0 < k < 1 , 则 k 表示抽样对于总体的比例\n",
    "    ## 如果 k >= 1 , 则 k 表示抽样的个数；当为分层抽样时，代表每层的样本量\n",
    "\n",
    "data = get_sample(df=course, sampling='stratified', \n",
    "                  stratified_col=['group'], k=300)\n",
    "data.sample(4); data.info()"
   ]
  },
  {
   "cell_type": "code",
   "execution_count": 7,
   "metadata": {},
   "outputs": [
    {
     "name": "stdout",
     "output_type": "stream",
     "text": [
      "两独立样本 T 检验...\n"
     ]
    },
    {
     "data": {
      "text/plain": [
       "Ttest_indResult(statistic=2.832720308119656, pvalue=0.004770921888179571)"
      ]
     },
     "execution_count": 7,
     "metadata": {},
     "output_type": "execute_result"
    },
    {
     "name": "stdout",
     "output_type": "stream",
     "text": [
      "---------------------------------------------\n",
      "双样本 Z 检验...\n"
     ]
    },
    {
     "data": {
      "text/plain": [
       "(2.832720308119656, 0.0046153749817909205)"
      ]
     },
     "execution_count": 7,
     "metadata": {},
     "output_type": "execute_result"
    }
   ],
   "source": [
    "# 总体未知，可采用两独立样本T检验\n",
    "from scipy import stats\n",
    "\n",
    "exp_duration = data.query('group == \"experiment\"')['duration']\n",
    "con_duration = data.query('group == \"control\"')['duration']\n",
    "\n",
    "print('两独立样本 T 检验...')\n",
    "stats.ttest_ind(a=exp_duration, b=con_duration)\n",
    "print('-'*45)\n",
    "print('双样本 Z 检验...')\n",
    "import statsmodels.  api as sm\n",
    "sm.stats.ztest(x1=exp_duration, x2=con_duration)"
   ]
  },
  {
   "cell_type": "code",
   "execution_count": null,
   "metadata": {},
   "outputs": [],
   "source": []
  }
 ],
 "metadata": {
  "kernelspec": {
   "display_name": "Python 3",
   "language": "python",
   "name": "python3"
  },
  "language_info": {
   "codemirror_mode": {
    "name": "ipython",
    "version": 3
   },
   "file_extension": ".py",
   "mimetype": "text/x-python",
   "name": "python",
   "nbconvert_exporter": "python",
   "pygments_lexer": "ipython3",
   "version": "3.7.3"
  },
  "latex_envs": {
   "LaTeX_envs_menu_present": true,
   "autoclose": false,
   "autocomplete": true,
   "bibliofile": "biblio.bib",
   "cite_by": "apalike",
   "current_citInitial": 1,
   "eqLabelWithNumbers": true,
   "eqNumInitial": 1,
   "hotkeys": {
    "equation": "Ctrl-E",
    "itemize": "Ctrl-I"
   },
   "labels_anchors": false,
   "latex_user_defs": false,
   "report_style_numbering": false,
   "user_envs_cfg": false
  },
  "toc": {
   "base_numbering": 1,
   "nav_menu": {},
   "number_sections": true,
   "sideBar": true,
   "skip_h1_title": false,
   "title_cell": "Table of Contents",
   "title_sidebar": "Contents",
   "toc_cell": false,
   "toc_position": {},
   "toc_section_display": true,
   "toc_window_display": false
  },
  "varInspector": {
   "cols": {
    "lenName": 16,
    "lenType": 16,
    "lenVar": 40
   },
   "kernels_config": {
    "python": {
     "delete_cmd_postfix": "",
     "delete_cmd_prefix": "del ",
     "library": "var_list.py",
     "varRefreshCmd": "print(var_dic_list())"
    },
    "r": {
     "delete_cmd_postfix": ") ",
     "delete_cmd_prefix": "rm(",
     "library": "var_list.r",
     "varRefreshCmd": "cat(var_dic_list()) "
    }
   },
   "types_to_exclude": [
    "module",
    "function",
    "builtin_function_or_method",
    "instance",
    "_Feature"
   ],
   "window_display": false
  }
 },
 "nbformat": 4,
 "nbformat_minor": 2
}
